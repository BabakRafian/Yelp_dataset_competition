{
 "cells": [
  {
   "cell_type": "markdown",
   "metadata": {},
   "source": [
    "# Final Project"
   ]
  },
  {
   "cell_type": "code",
   "execution_count": 22,
   "metadata": {},
   "outputs": [],
   "source": [
    "import numpy as np\n",
    "import pandas as pd\n",
    "import nltk\n",
    "from nltk import word_tokenize\n",
    "from nltk.corpus import stopwords\n",
    "import string"
   ]
  },
  {
   "cell_type": "code",
   "execution_count": 3,
   "metadata": {},
   "outputs": [],
   "source": [
    "data_set = pd.read_csv('yelp_review.csv')"
   ]
  },
  {
   "cell_type": "code",
   "execution_count": 7,
   "metadata": {},
   "outputs": [
    {
     "data": {
      "text/html": [
       "<div>\n",
       "<table border=\"1\" class=\"dataframe\">\n",
       "  <thead>\n",
       "    <tr style=\"text-align: right;\">\n",
       "      <th></th>\n",
       "      <th>review_id</th>\n",
       "      <th>user_id</th>\n",
       "      <th>business_id</th>\n",
       "      <th>stars</th>\n",
       "      <th>date</th>\n",
       "      <th>text</th>\n",
       "      <th>useful</th>\n",
       "      <th>funny</th>\n",
       "      <th>cool</th>\n",
       "    </tr>\n",
       "  </thead>\n",
       "  <tbody>\n",
       "    <tr>\n",
       "      <th>4905898</th>\n",
       "      <td>NhMyBEAdpGXJNqoAeRxl3g</td>\n",
       "      <td>HEvyblFw4I-UsMqgPGYY_Q</td>\n",
       "      <td>EkYbGk9L5KdCfL3ocZ7ETQ</td>\n",
       "      <td>5</td>\n",
       "      <td>2017-03-20</td>\n",
       "      <td>I rarely give out 5 star reviews anymore. But ...</td>\n",
       "      <td>1</td>\n",
       "      <td>0</td>\n",
       "      <td>0</td>\n",
       "    </tr>\n",
       "    <tr>\n",
       "      <th>3705014</th>\n",
       "      <td>Ld3yPzBOanahANC4oxbNrw</td>\n",
       "      <td>K-89BPt-F6DD8reawS8qpg</td>\n",
       "      <td>pSQFynH1VxkfSmehRXlZWw</td>\n",
       "      <td>5</td>\n",
       "      <td>2016-01-01</td>\n",
       "      <td>The pizza, salad, and bread are outstanding. T...</td>\n",
       "      <td>0</td>\n",
       "      <td>0</td>\n",
       "      <td>0</td>\n",
       "    </tr>\n",
       "    <tr>\n",
       "      <th>3917362</th>\n",
       "      <td>Ci75zacnhlMJt7hNjQD0fA</td>\n",
       "      <td>nP4i_0DYeEW0xgN0qD5GtQ</td>\n",
       "      <td>L4r6klm7FG4QBbNe8gu5-A</td>\n",
       "      <td>5</td>\n",
       "      <td>2016-12-30</td>\n",
       "      <td>Squirrel Hill is a neighborhood replete with c...</td>\n",
       "      <td>1</td>\n",
       "      <td>0</td>\n",
       "      <td>0</td>\n",
       "    </tr>\n",
       "    <tr>\n",
       "      <th>4416780</th>\n",
       "      <td>PlX0xktXgIXxAv-YJJjV9A</td>\n",
       "      <td>brzghuWHJyhHpWbKRmO9bg</td>\n",
       "      <td>2vL6xxAxRhJS7LabjjDyhw</td>\n",
       "      <td>5</td>\n",
       "      <td>2015-05-12</td>\n",
       "      <td>Amazing drinks, great atmosphere and one of th...</td>\n",
       "      <td>0</td>\n",
       "      <td>0</td>\n",
       "      <td>0</td>\n",
       "    </tr>\n",
       "    <tr>\n",
       "      <th>2827520</th>\n",
       "      <td>vFpJMs95-LKxqR8OIh_gtA</td>\n",
       "      <td>K2tNBXAs_E_GRfAC0-AFcA</td>\n",
       "      <td>Riei2mJ51OPhilVauV8NTg</td>\n",
       "      <td>1</td>\n",
       "      <td>2017-07-18</td>\n",
       "      <td>I am very disappointed in the customer service...</td>\n",
       "      <td>1</td>\n",
       "      <td>0</td>\n",
       "      <td>0</td>\n",
       "    </tr>\n",
       "  </tbody>\n",
       "</table>\n",
       "</div>"
      ],
      "text/plain": [
       "                      review_id                 user_id  \\\n",
       "4905898  NhMyBEAdpGXJNqoAeRxl3g  HEvyblFw4I-UsMqgPGYY_Q   \n",
       "3705014  Ld3yPzBOanahANC4oxbNrw  K-89BPt-F6DD8reawS8qpg   \n",
       "3917362  Ci75zacnhlMJt7hNjQD0fA  nP4i_0DYeEW0xgN0qD5GtQ   \n",
       "4416780  PlX0xktXgIXxAv-YJJjV9A  brzghuWHJyhHpWbKRmO9bg   \n",
       "2827520  vFpJMs95-LKxqR8OIh_gtA  K2tNBXAs_E_GRfAC0-AFcA   \n",
       "\n",
       "                    business_id  stars        date  \\\n",
       "4905898  EkYbGk9L5KdCfL3ocZ7ETQ      5  2017-03-20   \n",
       "3705014  pSQFynH1VxkfSmehRXlZWw      5  2016-01-01   \n",
       "3917362  L4r6klm7FG4QBbNe8gu5-A      5  2016-12-30   \n",
       "4416780  2vL6xxAxRhJS7LabjjDyhw      5  2015-05-12   \n",
       "2827520  Riei2mJ51OPhilVauV8NTg      1  2017-07-18   \n",
       "\n",
       "                                                      text  useful  funny  \\\n",
       "4905898  I rarely give out 5 star reviews anymore. But ...       1      0   \n",
       "3705014  The pizza, salad, and bread are outstanding. T...       0      0   \n",
       "3917362  Squirrel Hill is a neighborhood replete with c...       1      0   \n",
       "4416780  Amazing drinks, great atmosphere and one of th...       0      0   \n",
       "2827520  I am very disappointed in the customer service...       1      0   \n",
       "\n",
       "         cool  \n",
       "4905898     0  \n",
       "3705014     0  \n",
       "3917362     0  \n",
       "4416780     0  \n",
       "2827520     0  "
      ]
     },
     "execution_count": 7,
     "metadata": {},
     "output_type": "execute_result"
    }
   ],
   "source": [
    "data_set.sample(n = 5)"
   ]
  },
  {
   "cell_type": "code",
   "execution_count": 8,
   "metadata": {},
   "outputs": [],
   "source": [
    "df = data_set[['stars','text']]"
   ]
  },
  {
   "cell_type": "code",
   "execution_count": 29,
   "metadata": {},
   "outputs": [],
   "source": [
    "df.sample(n = 10)"
   ]
  },
  {
   "cell_type": "code",
   "execution_count": 25,
   "metadata": {},
   "outputs": [
    {
     "name": "stdout",
     "output_type": "stream",
     "text": [
      "[nltk_data] Downloading package stopwords to\n",
      "[nltk_data]     C:\\Users\\Babak\\AppData\\Roaming\\nltk_data...\n",
      "[nltk_data]   Package stopwords is already up-to-date!\n",
      "[nltk_data] Downloading package punkt to\n",
      "[nltk_data]     C:\\Users\\Babak\\AppData\\Roaming\\nltk_data...\n",
      "[nltk_data]   Unzipping tokenizers\\punkt.zip.\n"
     ]
    },
    {
     "data": {
      "text/plain": [
       "True"
      ]
     },
     "execution_count": 25,
     "metadata": {},
     "output_type": "execute_result"
    }
   ],
   "source": [
    "nltk.download('stopwords')\n",
    "nltk.download('punkt')"
   ]
  },
  {
   "cell_type": "code",
   "execution_count": 35,
   "metadata": {},
   "outputs": [],
   "source": [
    "def get_tokens(sentence):\n",
    "#sent = \"this is a foo bar, bar black sheep.\"\n",
    "    stop = stopwords.words('english') + list(string.punctuation)\n",
    "    return [i for i in word_tokenize(sentence.lower()) if i not in stop]"
   ]
  },
  {
   "cell_type": "code",
   "execution_count": 57,
   "metadata": {},
   "outputs": [],
   "source": [
    "sample = df.sample(n=5)"
   ]
  },
  {
   "cell_type": "code",
   "execution_count": 58,
   "metadata": {},
   "outputs": [
    {
     "data": {
      "text/html": [
       "<div>\n",
       "<table border=\"1\" class=\"dataframe\">\n",
       "  <thead>\n",
       "    <tr style=\"text-align: right;\">\n",
       "      <th></th>\n",
       "      <th>stars</th>\n",
       "      <th>text</th>\n",
       "    </tr>\n",
       "  </thead>\n",
       "  <tbody>\n",
       "    <tr>\n",
       "      <th>3008100</th>\n",
       "      <td>5</td>\n",
       "      <td>Hard not to give this place 5 stars. Aside fro...</td>\n",
       "    </tr>\n",
       "    <tr>\n",
       "      <th>55893</th>\n",
       "      <td>4</td>\n",
       "      <td>If you're looking for some solid Thai food, th...</td>\n",
       "    </tr>\n",
       "    <tr>\n",
       "      <th>3269788</th>\n",
       "      <td>5</td>\n",
       "      <td>Decided to try something new (the lumberjack B...</td>\n",
       "    </tr>\n",
       "    <tr>\n",
       "      <th>1506844</th>\n",
       "      <td>3</td>\n",
       "      <td>Had lunch at Sandy's today. Nice big selection...</td>\n",
       "    </tr>\n",
       "    <tr>\n",
       "      <th>4470610</th>\n",
       "      <td>2</td>\n",
       "      <td>disorganized service (several mistakes and pro...</td>\n",
       "    </tr>\n",
       "  </tbody>\n",
       "</table>\n",
       "</div>"
      ],
      "text/plain": [
       "         stars                                               text\n",
       "3008100      5  Hard not to give this place 5 stars. Aside fro...\n",
       "55893        4  If you're looking for some solid Thai food, th...\n",
       "3269788      5  Decided to try something new (the lumberjack B...\n",
       "1506844      3  Had lunch at Sandy's today. Nice big selection...\n",
       "4470610      2  disorganized service (several mistakes and pro..."
      ]
     },
     "execution_count": 58,
     "metadata": {},
     "output_type": "execute_result"
    }
   ],
   "source": [
    "sample"
   ]
  },
  {
   "cell_type": "code",
   "execution_count": 60,
   "metadata": {},
   "outputs": [],
   "source": [
    "sample.at[5, 'text'] = 'Hard place stars Aside disorganized service'"
   ]
  },
  {
   "cell_type": "code",
   "execution_count": 61,
   "metadata": {},
   "outputs": [],
   "source": [
    "for index,row in sample.iterrows():\n",
    "    tokens = get_tokens(sample.text[index])\n",
    "    for token in tokens:\n",
    "        if token not in sample.columns.values:\n",
    "            sample.at[index, token] = 1\n",
    "        else:\n",
    "            sample.at[index, token] += 1"
   ]
  },
  {
   "cell_type": "code",
   "execution_count": 62,
   "metadata": {},
   "outputs": [
    {
     "name": "stdout",
     "output_type": "stream",
     "text": [
      "         stars                                               text  hard  give  \\\n",
      "3008100    6.0  Hard not to give this place 5 stars. Aside fro...   2.0   1.0   \n",
      "55893      4.0  If you're looking for some solid Thai food, th...   NaN   NaN   \n",
      "3269788    5.0  Decided to try something new (the lumberjack B...   NaN   NaN   \n",
      "1506844    3.0  Had lunch at Sandy's today. Nice big selection...   NaN   NaN   \n",
      "4470610    2.0  disorganized service (several mistakes and pro...   NaN   NaN   \n",
      "5          NaN        Hard place stars Aside disorganized service   NaN   NaN   \n",
      "\n",
      "         place    5  aside  ridiculous  reservation  wait   ...     chips  \\\n",
      "3008100    2.0  1.0    1.0         1.0          1.0   1.0   ...       NaN   \n",
      "55893      NaN  NaN    NaN         NaN          NaN   NaN   ...       NaN   \n",
      "3269788    NaN  NaN    NaN         NaN          NaN   NaN   ...       NaN   \n",
      "1506844    NaN  NaN    NaN         NaN          NaN   NaN   ...       NaN   \n",
      "4470610    NaN  NaN    NaN         NaN          NaN   NaN   ...       1.0   \n",
      "5          NaN  NaN    NaN         NaN          NaN   NaN   ...       NaN   \n",
      "\n",
      "         oversalted  guacamole  cheap  plastic  menu  tasting  avoid   go  \\\n",
      "3008100         NaN        NaN    NaN      NaN   NaN      NaN    NaN  NaN   \n",
      "55893           NaN        NaN    NaN      NaN   NaN      NaN    NaN  NaN   \n",
      "3269788         NaN        NaN    NaN      NaN   NaN      NaN    NaN  NaN   \n",
      "1506844         NaN        NaN    NaN      NaN   NaN      NaN    NaN  NaN   \n",
      "4470610         1.0        1.0    2.0      2.0   1.0      1.0    1.0  1.0   \n",
      "5               NaN        NaN    NaN      NaN   NaN      NaN    NaN  NaN   \n",
      "\n",
      "         grumann  \n",
      "3008100      NaN  \n",
      "55893        NaN  \n",
      "3269788      NaN  \n",
      "1506844      NaN  \n",
      "4470610      1.0  \n",
      "5            NaN  \n",
      "\n",
      "[6 rows x 177 columns]\n"
     ]
    }
   ],
   "source": [
    "print(sample)"
   ]
  },
  {
   "cell_type": "code",
   "execution_count": null,
   "metadata": {},
   "outputs": [],
   "source": []
  }
 ],
 "metadata": {
  "kernelspec": {
   "display_name": "Python 3",
   "language": "python",
   "name": "python3"
  },
  "language_info": {
   "codemirror_mode": {
    "name": "ipython",
    "version": 3
   },
   "file_extension": ".py",
   "mimetype": "text/x-python",
   "name": "python",
   "nbconvert_exporter": "python",
   "pygments_lexer": "ipython3",
   "version": "3.6.0b3"
  }
 },
 "nbformat": 4,
 "nbformat_minor": 2
}
